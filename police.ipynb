{
 "cells": [
  {
   "cell_type": "code",
   "execution_count": null,
   "metadata": {},
   "outputs": [],
   "source": [
    "pip install pymysql"
   ]
  },
  {
   "cell_type": "code",
   "execution_count": null,
   "metadata": {},
   "outputs": [],
   "source": [
    "import pandas as pd\n",
    "import pymysql\n",
    "from datetime import datetime\n",
    "import warnings\n",
    "warnings.filterwarnings('ignore')\n",
    "low_memory=False"
   ]
  },
  {
   "cell_type": "markdown",
   "metadata": {},
   "source": [
    "# Data is loaded into dataframe named df #"
   ]
  },
  {
   "cell_type": "code",
   "execution_count": null,
   "metadata": {},
   "outputs": [],
   "source": [
    "# Step 1a: Python for Data Processing\n",
    "#load data\n",
    "df = pd.read_csv('police.csv')"
   ]
  },
  {
   "cell_type": "code",
   "execution_count": null,
   "metadata": {},
   "outputs": [],
   "source": [
    "df"
   ]
  },
  {
   "cell_type": "code",
   "execution_count": null,
   "metadata": {},
   "outputs": [],
   "source": [
    "df.info()"
   ]
  },
  {
   "cell_type": "markdown",
   "metadata": {},
   "source": [
    "### Data has missing values in column search_type ###"
   ]
  },
  {
   "cell_type": "code",
   "execution_count": null,
   "metadata": {},
   "outputs": [],
   "source": [
    "# Step 1b: Data Cleaning\n",
    "# For dropping columns with all missing values\n",
    "df.dropna(axis=1, how='all', inplace=True)\n",
    "df.info()"
   ]
  },
  {
   "cell_type": "code",
   "execution_count": null,
   "metadata": {},
   "outputs": [],
   "source": [
    "# filling na values by using driver_age column by introducing with median values as age for the new unknown data of search type\n",
    "df.fillna({\n",
    "    'driver_age': df['driver_age'].median(),\n",
    "    'search_type': 'None',\n",
    "    'stop_duration': 'Unknown',\n",
    "    'violation': 'Unknown',\n",
    "    'stop_outcome': 'Unknown',\n",
    "}, inplace=True)"
   ]
  },
  {
   "cell_type": "code",
   "execution_count": null,
   "metadata": {},
   "outputs": [],
   "source": [
    "df.info()"
   ]
  },
  {
   "cell_type": "markdown",
   "metadata": {},
   "source": [
    "### Missing values filled ###"
   ]
  },
  {
   "cell_type": "code",
   "execution_count": null,
   "metadata": {},
   "outputs": [],
   "source": [
    "# Concatenating date & time to create a new column named time_log\n",
    "df['time_log'] = pd.to_datetime(df['stop_date'] + ' ' + df['stop_time'])"
   ]
  },
  {
   "cell_type": "code",
   "execution_count": null,
   "metadata": {},
   "outputs": [],
   "source": [
    "df.head(1)"
   ]
  },
  {
   "cell_type": "code",
   "execution_count": null,
   "metadata": {},
   "outputs": [],
   "source": [
    "df.info()"
   ]
  },
  {
   "cell_type": "code",
   "execution_count": null,
   "metadata": {},
   "outputs": [],
   "source": [
    "# Connect to MySQL\n",
    "myconnection = pymysql.connect(host=\"localhost\",user=\"root\",password=\"Veerabhagu@00\")"
   ]
  },
  {
   "cell_type": "code",
   "execution_count": null,
   "metadata": {},
   "outputs": [],
   "source": [
    "cursor = myconnection.cursor()\n",
    "cursor.execute(\"create database Securecheck\")"
   ]
  },
  {
   "cell_type": "code",
   "execution_count": null,
   "metadata": {},
   "outputs": [],
   "source": [
    "cursor.execute(\"USE Securecheck;\")"
   ]
  },
  {
   "cell_type": "code",
   "execution_count": null,
   "metadata": {},
   "outputs": [],
   "source": [
    "# create table police_log...using \"if not exists\" to prevent error from duplicate table creation...not using _raw columns from the data\n",
    "cursor.execute(\"\"\"CREATE TABLE IF NOT EXISTS police_log (\n",
    "    id INT AUTO_INCREMENT PRIMARY KEY,\n",
    "    stop_date DATE,\n",
    "    stop_time TIME,\n",
    "    country_name VARCHAR(100),\n",
    "    driver_gender VARCHAR(10),\n",
    "    driver_age INT,\n",
    "    driver_race VARCHAR(50),\n",
    "    violation VARCHAR(100),\n",
    "    search_conducted BOOLEAN,\n",
    "    search_type VARCHAR(100),\n",
    "    stop_outcome VARCHAR(100),\n",
    "    is_arrested BOOLEAN,\n",
    "    stop_duration VARCHAR(50),\n",
    "    drugs_related_stop BOOLEAN,\n",
    "    vehicle_number VARCHAR(50),\n",
    "    time_log DATETIME\n",
    ")\"\"\")"
   ]
  },
  {
   "cell_type": "code",
   "execution_count": null,
   "metadata": {},
   "outputs": [],
   "source": [
    "df"
   ]
  },
  {
   "cell_type": "markdown",
   "metadata": {},
   "source": [
    "### Date and time column should be in correct format. Even though the data seems correct, to make sure everything is correct, convert them once ###"
   ]
  },
  {
   "cell_type": "code",
   "execution_count": null,
   "metadata": {},
   "outputs": [],
   "source": [
    "# Convert stop_date to correct format (YYYY-MM-DD)\n",
    "df['stop_date'] = pd.to_datetime(df['stop_date'], errors='coerce').dt.strftime('%Y-%m-%d') \n",
    "# coerce ensures that any invalid date entries are replaced with Not a Time by avoiding errors.\n",
    "# dt.strftime('%Y-%m-%d')to format datetime values into a string\n",
    "\n",
    "# convert stop_time to correct format (HH:MM:SS)\n",
    "df['stop_time'] = pd.to_datetime(df['stop_time'], format='%H:%M:%S', errors='coerce').dt.strftime('%H:%M:%S')\n"
   ]
  },
  {
   "cell_type": "code",
   "execution_count": null,
   "metadata": {},
   "outputs": [],
   "source": [
    "df"
   ]
  },
  {
   "cell_type": "code",
   "execution_count": null,
   "metadata": {},
   "outputs": [],
   "source": [
    "# Replace NaN with None, df.where is used to fill none, instead of df.fillna, as fillna cannot fill none as a value\n",
    "df = df.where(pd.notnull(df), None)"
   ]
  },
  {
   "cell_type": "code",
   "execution_count": null,
   "metadata": {},
   "outputs": [],
   "source": [
    "df.head(2)"
   ]
  },
  {
   "cell_type": "code",
   "execution_count": null,
   "metadata": {},
   "outputs": [],
   "source": [
    "# Insert Query\n",
    "query = \"\"\"\n",
    "    INSERT INTO police_log (\n",
    "        stop_date, stop_time, country_name, driver_gender, driver_age, driver_race,\n",
    "        violation, search_conducted, search_type, stop_outcome, is_arrested,\n",
    "        stop_duration, drugs_related_stop, vehicle_number, time_log\n",
    "    ) VALUES (%s, %s, %s, %s, %s, %s, %s, %s, %s, %s, %s, %s, %s, %s, %s)\n",
    "\"\"\""
   ]
  },
  {
   "cell_type": "code",
   "execution_count": null,
   "metadata": {},
   "outputs": [],
   "source": [
    "# Iterating DataFrame and Inserting rows\n",
    "for i, row in df.iterrows():\n",
    "    cursor.execute(query, (\n",
    "    row.get('stop_date'),\n",
    "    row.get('stop_time'),\n",
    "    row.get('country_name'),\n",
    "    row.get('driver_gender'),\n",
    "    int(row.get('driver_age')) if row.get('driver_age') else None,\n",
    "    row.get('driver_race'),\n",
    "    row.get('violation'),\n",
    "    bool(row.get('search_conducted')) if row.get('search_conducted') is not None else None,\n",
    "    row.get('search_type'),\n",
    "    row.get('stop_outcome'),\n",
    "    bool(row.get('is_arrested')) if row.get ('is_arrested') is not None else None,\n",
    "    row.get('stop_duration'),\n",
    "    bool(row.get('drugs_related_stop')) if row.get('drugs_related_stop') is not None else None,\n",
    "    row.get('vehicle_number'),\n",
    "    row.get('time_log')\n",
    "))"
   ]
  },
  {
   "cell_type": "code",
   "execution_count": null,
   "metadata": {},
   "outputs": [],
   "source": [
    "# Commit and Close Connection\n",
    "myconnection.commit()\n",
    "cursor.close()\n",
    "myconnection.close()"
   ]
  },
  {
   "cell_type": "code",
   "execution_count": null,
   "metadata": {},
   "outputs": [],
   "source": []
  }
 ],
 "metadata": {
  "kernelspec": {
   "display_name": "Python 3 (ipykernel)",
   "language": "python",
   "name": "python3"
  },
  "language_info": {
   "codemirror_mode": {
    "name": "ipython",
    "version": 3
   },
   "file_extension": ".py",
   "mimetype": "text/x-python",
   "name": "python",
   "nbconvert_exporter": "python",
   "pygments_lexer": "ipython3",
   "version": "3.13.5"
  }
 },
 "nbformat": 4,
 "nbformat_minor": 4
}
